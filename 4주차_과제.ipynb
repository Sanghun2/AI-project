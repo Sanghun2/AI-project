{
  "nbformat": 4,
  "nbformat_minor": 0,
  "metadata": {
    "colab": {
      "name": "4주차_과제.ipynb",
      "provenance": [],
      "collapsed_sections": [],
      "include_colab_link": true
    },
    "kernelspec": {
      "name": "python3",
      "display_name": "Python 3"
    }
  },
  "cells": [
    {
      "cell_type": "markdown",
      "metadata": {
        "id": "view-in-github",
        "colab_type": "text"
      },
      "source": [
        "<a href=\"https://colab.research.google.com/github/Sanghun2/AI-project/blob/master/4%EC%A3%BC%EC%B0%A8_%EA%B3%BC%EC%A0%9C.ipynb\" target=\"_parent\"><img src=\"https://colab.research.google.com/assets/colab-badge.svg\" alt=\"Open In Colab\"/></a>"
      ]
    },
    {
      "cell_type": "markdown",
      "metadata": {
        "id": "wxkL6PjwsI6L",
        "colab_type": "text"
      },
      "source": [
        "# 4주차 과제\n",
        "- 용어 정리\n",
        "- 딥러닝 강의 클론 코딩\n",
        "- 딥러닝 순전파 & 역전파 계산"
      ]
    },
    {
      "cell_type": "markdown",
      "metadata": {
        "id": "ixEtDe6_uGgI",
        "colab_type": "text"
      },
      "source": [
        "## 1. 용어 정리\n",
        "\n",
        "다음 제시된 단어의 정의(설명)를 정리하여 작성 하세요.\n",
        "\n",
        "* 2문장 이상 작성 해 주세요. \n",
        "* 주제(단어)와 크게 벗어나지만 않는다면 정답처리 됩니다.\n",
        "* 강의 뿐 아니라 기타 레퍼런스를 참고하여 작성하셔도 됩니다. (기타 레퍼런스를 참고하신 경우, 해당 레퍼런스를 정리하여 하단에 작성해 주세요.)\n"
      ]
    },
    {
      "cell_type": "markdown",
      "metadata": {
        "id": "0lfwat8eurKZ",
        "colab_type": "text"
      },
      "source": [
        "__(예시)__\n",
        "### 심층 신경망\n",
        ": 입력층과 출력층 사이에 여러 개의 은닉층들로 이뤄진 인공신경망이다. 심층 신경망은 일반적으로 인공신경망과 마찬가지로 복잡한 비선형 관계들을 모델링 할 수 있다. 신층신경망의 목적은 분류 및 수치예측을 하기 위함이고 이미지 트레이닝이나 문자인식과 같은 분야에서 매우 유용하게 쓰이고 있다."
      ]
    },
    {
      "cell_type": "markdown",
      "metadata": {
        "id": "Y8YJNKG_v65A",
        "colab_type": "text"
      },
      "source": [
        "### MCP 뉴런\n",
        ": 맥컬록 - 피츠 뉴런 이라는 뜻으로 간소화 된 뉴런 개념이다. 뉴런들은 뇌의 신경세포와 연결되어 있으며 화학적, 전기적 신호를 처리하고 전달하는데 관여하는데, 맥컬록과 피츠는 이런 신경세포를 이진 출력을 내는 간단한 논리 회로로 표현했다.\n",
        "\n",
        "### 퍼셉트론\n",
        ": 프랭크 로젠 블렛이 MCP 뉴런 모델을 기반으로 발표한 학습 개념이다. 퍼셉트론 규칙에서 최적의 가중치를 자동으로 학습하는 알고리즘을 제안했다. 퍼셉트론이 동작하는 방식은 각 노드의 가중치와 입력치를 곱한 것을 모두 합한 값이 활성함수에 의해 판단되는데, 그 값이 임계치(보통 0)보다 크면 뉴런이 활성화되고 결과값으로 1을 출력한다. 뉴런이 활성화되지 않으면 결과값으로 -1을 출력한다. 선형분류에 좋은 성과를 보였지만 XOR연산에 어려움이 있어 선형분류기 신세를 면치 못했다. 다층 퍼셉트론으로 어느 정도 해결이 가능하다는 의견이 있었지만, 다층 퍼셉트론의 치명적인 약점은 파라미터 개수가 많아지면서 적절한 가중치와 편향을 학습하는 것이 어렵다는 것이었다. \n",
        "\n",
        "### 역전파\n",
        ": 뉴런의 가중치를 효율적으로 조정하기 위해, 거꾸로 전파하는 방식이다. 출력값이 예측값과 차이가 있을 때 출력값을 예측값으로 수정하고 그것을 기준으로 역으로 전파해 나가면서 가중치를 수정해 오차값을 줄인다. 퍼셉트론 개념의 한계로 인해 어려움을 겪고 있을 때 제프리 힌튼이 제시한 알고리즘으로 퍼셉트론의 한계점을 해결했다.\n",
        "\n",
        "### 강화학습\n",
        ": 강화학습은 '에이전트'가 환경과 상호작용하며 보상이라는 기준에 따라 시행착오를 겪으며 보상을 최대화하는 방향으로 학습을 진행하는 학습방법이다. 보상을 기준으로 탐험과 활용이라는 개념을 가지고 학습을 해 나간다. 하지만 탐험과 활용을 같은 상태에서 동시에 할 수 없기 때문에 어떤것이 좋을지에 대한 어려움이 있는데, 이를 활용과 탐험의 딜레마(갈등)라고 한다. 강화학습은 활용과 탐험을 적절히 분배하는게 중요하다.\n",
        "\n",
        "### 과적합\n",
        ": 훈련데이터에서는 매우 잘 맞지만 새로운 데이터가 들어왔을 때 분류를 제대로 하지 못해서 모델의 성능이 떨어지는 것을 말한다. 드롭아웃이라는 신경망등의 노드를 일부러 제거하는 방법으로 이를 방지한다.\n",
        "\n",
        "### 차원의 저주\n",
        ": 차원의 저주는 고정된 크기의 훈련데이터셋 차원이 늘어남에 따라 특성공간이 점점 희소해 지는 현상을 말한다. 이를 해결하기 위해 차원축소기법을 자주 사용한다.\n"
      ]
    },
    {
      "cell_type": "markdown",
      "metadata": {
        "id": "d-zfFXLCy6jD",
        "colab_type": "text"
      },
      "source": [
        "## 2. 딥러닝 강의 클론 코딩\n",
        "\n",
        "####__퍼셉트론 구조 구현하기__ \n",
        "딥러닝 강의(__딥러닝 원리[1] 3:15 ~ 5:15 부분__)를 보고 코드를 따라 치며 출력 결과를 만드세요.\n",
        " \n",
        "\n",
        "* 하나의 코드셀에 해당 코드를 한번에 다 적어서 실행해주세요 (__그렇게 하지 않을 경우, 아래 이미지와 같은 출력값이 나오지 않을 수 있습니다__)\n",
        "\n",
        "*__주의!__ 실제로 코딩해서 출력해보면 강의에 나온 출력 결과와 다르게 나옵니다!!\n"
      ]
    },
    {
      "cell_type": "code",
      "metadata": {
        "id": "ehA_cXjRBD8C",
        "colab_type": "code",
        "outputId": "6f1f376f-a26a-4f19-babc-cb535bda9c99",
        "colab": {
          "base_uri": "https://localhost:8080/",
          "height": 215
        }
      },
      "source": [
        "import tensorflow as tf\n",
        "tf.compat.v1.set_random_seed(2020)\n",
        "x = 1\n",
        "y = 0\n",
        "w = tf.random.normal([1], 0, 1)\n",
        "\n",
        "import math\n",
        "def sigmoid(x):\n",
        "  return 1 / (1 + math.exp(-x))\n",
        "\n",
        "output = sigmoid( x * w)\n",
        "print(output)\n",
        "\n",
        "for i in range(1000):\n",
        "  output = sigmoid(x*w)\n",
        "  error = y - output\n",
        "  w = w + x * 0.1 * error\n",
        "\n",
        "  if i % 100 == 99:\n",
        "    print(\"학습 횟수: \", i, \"Error:\", error, \"예측 결과: \", output)"
      ],
      "execution_count": 0,
      "outputs": [
        {
          "output_type": "stream",
          "text": [
            "0.47477188589261\n",
            "학습 횟수:  99 Error: -0.10010598284299604 예측 결과:  0.10010598284299604\n",
            "학습 횟수:  199 Error: -0.05178399422833116 예측 결과:  0.05178399422833116\n",
            "학습 횟수:  299 Error: -0.034590451977903586 예측 결과:  0.034590451977903586\n",
            "학습 횟수:  399 Error: -0.02588962752851373 예측 결과:  0.02588962752851373\n",
            "학습 횟수:  499 Error: -0.020658699939863617 예측 결과:  0.020658699939863617\n",
            "학습 횟수:  599 Error: -0.017174253993457355 예측 결과:  0.017174253993457355\n",
            "학습 횟수:  699 Error: -0.014689506449480992 예측 결과:  0.014689506449480992\n",
            "학습 횟수:  799 Error: -0.012829497265431342 예측 결과:  0.012829497265431342\n",
            "학습 횟수:  899 Error: -0.011385568271837804 예측 결과:  0.011385568271837804\n",
            "학습 횟수:  999 Error: -0.010232493309882492 예측 결과:  0.010232493309882492\n"
          ],
          "name": "stdout"
        }
      ]
    },
    {
      "cell_type": "markdown",
      "metadata": {
        "id": "wcc5mzI9oZ7r",
        "colab_type": "text"
      },
      "source": [
        "![대체 텍스트](https://www.notion.so/image/https%3A%2F%2Fs3-us-west-2.amazonaws.com%2Fsecure.notion-static.com%2F0cceeed0-0235-4b0f-af88-0b8c377d5b4b%2F_2020-06-09__9.35.23.png?table=block&id=88fd8912-9356-49a4-9fda-a1a63fe96ea9&width=2870&cache=v2)"
      ]
    },
    {
      "cell_type": "markdown",
      "metadata": {
        "id": "kr0HVRk8fOom",
        "colab_type": "text"
      },
      "source": [
        "## 3. 딥러닝 순전파 & 역전파 계산\n",
        "\n",
        "딥러닝 강의(__딥러닝 원리[2] 0:55 ~ 4:32 부분__)에 나오는 순전파 & 역전파 계산에 대한 문제 입니다.\n",
        "\n",
        "해당 영상과 다음 이미지를 참고하여 다음 2가지 물음에 답하세요.\n",
        "\n",
        "\n",
        "(1) 학습률이 0.2 일 경우 출력층의 노드값\n",
        "\n",
        "(2) 학습률이 0.1과 0.2 중 기대출력값이 지도데이터 \"3\"과 더 가까운 학습률은?"
      ]
    },
    {
      "cell_type": "markdown",
      "metadata": {
        "id": "CpwPFWhOUzww",
        "colab_type": "text"
      },
      "source": [
        "![대체 텍스트](https://www.notion.so/image/https%3A%2F%2Fs3-us-west-2.amazonaws.com%2Fsecure.notion-static.com%2Ff54dfd45-92ec-44ae-9616-6949d2484a45%2F_2020-06-10__5.22.03.png?table=block&id=ee05da89-3ceb-4ad9-a2d3-c9f68d24d1d9&width=3580&cache=v2)"
      ]
    },
    {
      "cell_type": "markdown",
      "metadata": {
        "id": "B2OVY7w5U3CI",
        "colab_type": "text"
      },
      "source": [
        "## (1) 학습률이 0.2 일 경우 출력층의 노드값 : \n",
        "## (2) 학습률이 0.1과 0.2 중 기대출력값이 지도데이터 \"3\"과 더 가까운 학습률은? : "
      ]
    },
    {
      "cell_type": "code",
      "metadata": {
        "id": "BgavfvqiWxBU",
        "colab_type": "code",
        "colab": {}
      },
      "source": [
        ""
      ],
      "execution_count": 0,
      "outputs": []
    }
  ]
}