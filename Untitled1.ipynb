{
  "nbformat": 4,
  "nbformat_minor": 0,
  "metadata": {
    "colab": {
      "name": "Untitled1.ipynb",
      "provenance": [],
      "authorship_tag": "ABX9TyNx/VQTqgJ4oOvIwlF1OtxK",
      "include_colab_link": true
    },
    "kernelspec": {
      "name": "python3",
      "display_name": "Python 3"
    }
  },
  "cells": [
    {
      "cell_type": "markdown",
      "metadata": {
        "id": "view-in-github",
        "colab_type": "text"
      },
      "source": [
        "<a href=\"https://colab.research.google.com/github/Sanghun2/AI-project/blob/master/Untitled1.ipynb\" target=\"_parent\"><img src=\"https://colab.research.google.com/assets/colab-badge.svg\" alt=\"Open In Colab\"/></a>"
      ]
    },
    {
      "cell_type": "markdown",
      "metadata": {
        "id": "ZyT9QWAsDLje",
        "colab_type": "text"
      },
      "source": [
        "# _**인공지능을 사용하는 제품 및 서비스**_"
      ]
    },
    {
      "cell_type": "markdown",
      "metadata": {
        "id": "NroktNHLOMhE",
        "colab_type": "text"
      },
      "source": [
        "* 언어"
      ]
    },
    {
      "cell_type": "markdown",
      "metadata": {
        "id": "mTDCC2YsPPY_",
        "colab_type": "text"
      },
      "source": [
        "* 음성"
      ]
    },
    {
      "cell_type": "markdown",
      "metadata": {
        "id": "RDlb14neP1En",
        "colab_type": "text"
      },
      "source": [
        "* 이미지"
      ]
    },
    {
      "cell_type": "markdown",
      "metadata": {
        "id": "cgoIl_k8QhII",
        "colab_type": "text"
      },
      "source": [
        "* 자율주행"
      ]
    },
    {
      "cell_type": "markdown",
      "metadata": {
        "id": "5bdClp-tQkCT",
        "colab_type": "text"
      },
      "source": [
        "***\n",
        "\n"
      ]
    },
    {
      "cell_type": "markdown",
      "metadata": {
        "id": "_XqG2b1MQkfC",
        "colab_type": "text"
      },
      "source": [
        "# 1. 언어 - 파파고(네이버)"
      ]
    },
    {
      "cell_type": "markdown",
      "metadata": {
        "id": "RL8ZlZhsspwg",
        "colab_type": "text"
      },
      "source": [
        "![papago](https://newsimg.hankookilbo.com/2018/04/27/201804271786835625_1.jpg)\n",
        "\n",
        "\n",
        "\n"
      ]
    },
    {
      "cell_type": "markdown",
      "metadata": {
        "id": "J-p5E_J94Mzc",
        "colab_type": "text"
      },
      "source": [
        "<설명>"
      ]
    },
    {
      "cell_type": "markdown",
      "metadata": {
        "id": "rtkCREE84OAo",
        "colab_type": "text"
      },
      "source": [
        "<"
      ]
    },
    {
      "cell_type": "markdown",
      "metadata": {
        "id": "K8yrtyKqtZZM",
        "colab_type": "text"
      },
      "source": [
        "***"
      ]
    },
    {
      "cell_type": "markdown",
      "metadata": {
        "id": "aVFf8Q13Q_BU",
        "colab_type": "text"
      },
      "source": [
        "# 2. 음성 - 빅스비(삼성)"
      ]
    },
    {
      "cell_type": "markdown",
      "metadata": {
        "id": "ruHd9iH1upWn",
        "colab_type": "text"
      },
      "source": [
        "![](https://www.businesskorea.co.kr/news/photo/201907/33406_45244_1824.png)"
      ]
    },
    {
      "cell_type": "markdown",
      "metadata": {
        "id": "brRSzkQddYkn",
        "colab_type": "text"
      },
      "source": [
        "<설명> 빅스비(Bixby)는 삼성전자가 2017년 3월 30일에 공개한 음성인식 기반 개인 비서 애플리케이션이다.\n",
        "\n",
        "삼성전자가 비브 개발진과 협력 해 개발 한 딥러닝 기반의 발전된 삼성전자의 소프트웨어 인공지능 서비스이며, 갤럭시 스마트폰 뿐만 아니라 삼성의 모든 스마트 기기에 탑재할 것이라고 한다.\n",
        "\n",
        "빅스비는 이용 데이터가 쌓일수록 더 정교해지는 딥러닝 기술을 바탕으로 개발됐다."
      ]
    },
    {
      "cell_type": "markdown",
      "metadata": {
        "id": "ImHhJCbZevDK",
        "colab_type": "text"
      },
      "source": [
        "<기술 및 원리> 빅스비 보이스의 자연 언어 처리 시스템의 구조는 다음과 같다.\n",
        "\n",
        "먼저 자연어가 입력되면 단어별로 쪼개서 각 정보를 찾는다.\n",
        "\n",
        "예를들어\n",
        "\"오늘 아침 10시에 서울역의 날씨가 어떤지 알려줘\"\n",
        "라는 명령이 들어오면, 처음에는 날짜(Date time, 기간), 시간(AM, PM)을 먼저 확인한다. 그런 다음 과거, 현재, 미래형인지 인식한다.\n",
        "\n",
        "이후, 서울역, 날씨에 대한 명령어를 확인 하고 빅스비 브레인에서 장소, 날씨 캡슐로 이동하여 장소 포인트, 날씨 상태에 대한 측정 액션을 불러온다. 이들을 종합해서 날씨 상태를 판단하는 목표를 인식해서 태스크를 실행한다. 이를 통해 각종 자연어 및 복잡한 언어 패턴에서 작업을 수행할 수 있다.\n",
        "\n",
        "또한 빅스비는 스마트폰 화면의 객체를 분석하기 때문에 모든 작업을 수행할 수 있다. 그로인해 작업을 차례차례 진행하며, 작업을 완료 하기까지 시간이 좀 걸리는 편 이다, 다만 이 점은 지원하는 앱의 일부의 기능만 부분적으로 수행할 수 있는 다른 AI와 비교했을때 빅스비만의 차별화되는 특징이다.\n",
        "\n",
        "이 점을 이용 해 빅스비는 관용적인 언어를 인식한다. 직접 말 하지 않더라도 사용자 내린 명령에서 지칭하는 것이 무엇인지 화면에서 객체를 찾아서 명령을 수행할 수 있다.\n",
        "\n",
        "여기에 빅스비는 문장의 맥락을 인식할 수 있으며, 그로인해 다중 작업을 한 번의 명령으로 수행할 수 있다."
      ]
    },
    {
      "cell_type": "markdown",
      "metadata": {
        "id": "HOLqBPLR0F7F",
        "colab_type": "text"
      },
      "source": [
        "<활용 및 사례> 실제로 빅스비는 상당히 많은 기능을 가지고 있다.    \n",
        "https://www.samsung.com/sec/apps/bixby/"
      ]
    },
    {
      "cell_type": "markdown",
      "metadata": {
        "id": "5Y0j0pUiylWt",
        "colab_type": "text"
      },
      "source": [
        "<문제점 및 보완> 지금까지 쉽게 접할 수 있는 기술 중 개인적으로 가장 많이 이용하고 있는 기능으로써 기술적인 문제점은 크게 보이지 않지만 좀 더 자연스러운 대화방식을 통해 관리를 할 수 있다면 더 좋을 것이라는 생각이 든다. 따라서 인지하고 분석해서 답을 내놓는 속도가 더 빨라져야 괴리감을 느끼지 않고 대화를 하는 것 처럼 일상에 녹아들 수 있을 것 같다."
      ]
    },
    {
      "cell_type": "markdown",
      "metadata": {
        "id": "BeQcTWdCtbl4",
        "colab_type": "text"
      },
      "source": [
        "***"
      ]
    },
    {
      "cell_type": "markdown",
      "metadata": {
        "id": "MQ-7Fj6lRW2Q",
        "colab_type": "text"
      },
      "source": [
        "# 3. 이미지 - 빅스비 비전(삼성)\n",
        "\n",
        "\n"
      ]
    },
    {
      "cell_type": "markdown",
      "metadata": {
        "id": "_ARE9ZPSvsTw",
        "colab_type": "text"
      },
      "source": [
        "![](https://img.kr.news.samsung.com/kr/wp-content/uploads/2018/05/bv-1t-11.png)"
      ]
    },
    {
      "cell_type": "markdown",
      "metadata": {
        "id": "Qc0efLmPayoj",
        "colab_type": "text"
      },
      "source": [
        "<설명> _빅스비 비전은 삼성에서 제작한 어플리케이션으로 스마트폰 카메라에 비친 피사체를 인식해 다양한 기능을 실시간으로 제공한다._\n",
        "\n",
        "\n"
      ]
    },
    {
      "cell_type": "markdown",
      "metadata": {
        "id": "1CSCOYcqfLhZ",
        "colab_type": "text"
      },
      "source": [
        "<기술 및 원리> 빅스비와 비슷한 방식으로 빅스비 비전도 각 모드에 따라 맞는 캡슐로 이동해서 정보를 찾는다.(빅스비 기술 및 원리 참고)"
      ]
    },
    {
      "cell_type": "markdown",
      "metadata": {
        "id": "c0g5Un0oseWQ",
        "colab_type": "text"
      },
      "source": [
        "<활용> 와인에 대한 정보검색, 텍스트인식 및 번역, 상품찾기, QR코드스캔, 음식정보 검색, 장소 정보검색 등의 기능이 있으며 추가로 필요한 기능을 다운로드해서 사용할 수도 있다. "
      ]
    },
    {
      "cell_type": "markdown",
      "metadata": {
        "id": "FCP_VJvAeYY0",
        "colab_type": "text"
      },
      "source": [
        "<한계점>\n",
        "실제로 사용시 500만원 짜리 시계를 검색했을때 1초도 안되서 결과가 나오긴 했지만, 만원짜리 시계인 경우가 자주 있다. 아직까지는 딥러닝 기반의 기술인 만큼 어느 정도 시간이 지나야 만족할 만한 서비스를 보여줄 수 있을 것으로 보인다. "
      ]
    },
    {
      "cell_type": "markdown",
      "metadata": {
        "id": "4GhQi22_tXN8",
        "colab_type": "text"
      },
      "source": [
        "***"
      ]
    },
    {
      "cell_type": "markdown",
      "metadata": {
        "id": "52QcQo8ORZ-S",
        "colab_type": "text"
      },
      "source": [
        "# 4. 자율주행 - 오토파일럿(테슬라)"
      ]
    },
    {
      "cell_type": "markdown",
      "metadata": {
        "id": "oBFqQ2cTvvbJ",
        "colab_type": "text"
      },
      "source": [
        "![](https://encrypted-tbn0.gstatic.com/images?q=tbn%3AANd9GcSqnL0GrJrVjXe8VES3yMfRb0hQQOSJLfJJbLtGCYBUR4r7Yfni&usqp=CAU)"
      ]
    },
    {
      "cell_type": "markdown",
      "metadata": {
        "id": "El4ve7x6cdO2",
        "colab_type": "text"
      },
      "source": [
        "<설명> 테슬라 사에서 개발한 자율주행 기능이다.\n",
        "\n",
        "\n",
        "\n",
        "자율주행은 국제자동차공학회(SAE)에서 5단계로 나눈 기준을 주로 척도로 삼는다.   \n",
        "**0단계** : 수동제어   \n",
        "**1단계** : 운전자보조   \n",
        "**2단계** : 부분 자율주행(간격유지,차선/차량인식등)   \n",
        "**3단계** : 조건적 자율주행(일정구간 자율, 돌발상황은 운전자가 대비)   \n",
        "**4단계** : 고도화 자율주행(특정조건에서 모든 안전제어 가능)   \n",
        "**5단계** : 완전 자율주행   \n",
        "   \n",
        "   현재까지는 대부분 2~3단계 정도까지만 개발이 완료된 것으로 조사된다. 테슬라의 오토파일럿의 경우도 3단계 정도다."
      ]
    },
    {
      "cell_type": "markdown",
      "metadata": {
        "id": "GrtlxYrwuGIS",
        "colab_type": "text"
      },
      "source": [
        "<기술 및 원리> 자율주행 서비스인 오토파일럿은 하나의 시스템으로 작동하는게 아니라 위치기반 서비스, 카메라, 레이더(라이더) 등등 여러가지 기술과 장비들의 정보를 합쳐서 비로소 기능이 완성된다.\n",
        "\n",
        "핵심기술은 눈이 되는 카메라와 레이더(라이더), 딥러닝을 기반으로 한 시스템 등이고 위치정보나 날씨정보등을 이용해 운행기술을 보조한다."
      ]
    },
    {
      "cell_type": "markdown",
      "metadata": {
        "id": "g_sW-GfnuANc",
        "colab_type": "text"
      },
      "source": [
        "<활용 사례 및 참고영상>"
      ]
    },
    {
      "cell_type": "markdown",
      "metadata": {
        "id": "G83DueHethQ0",
        "colab_type": "text"
      },
      "source": [
        "[실제 사용 영상](https://www.youtube.com/watch?v=aQ3JN0mcTmk\n",
        ")"
      ]
    },
    {
      "cell_type": "markdown",
      "metadata": {
        "id": "ek0ZrEiItpla",
        "colab_type": "text"
      },
      "source": [
        "[오토파일럿에 대한 사용 및 전반적인 설명]( https://www.youtube.com/watch?v=Ko8R68nGGUg\n",
        ")"
      ]
    },
    {
      "cell_type": "markdown",
      "metadata": {
        "id": "a4op3QGvxCFD",
        "colab_type": "text"
      },
      "source": [
        "<문제점 및 보완>"
      ]
    },
    {
      "cell_type": "markdown",
      "metadata": {
        "id": "CW81BLBixs4v",
        "colab_type": "text"
      },
      "source": [
        "[자율주행 차량 사고영상](https://www.youtube.com/watch?v=Z4bvgaK_o3U)"
      ]
    },
    {
      "cell_type": "markdown",
      "metadata": {
        "id": "WeTqLeZxxEi7",
        "colab_type": "text"
      },
      "source": [
        "인공지능 기술과 필요한 감지장치의 성능이 아직까지는 완벽하지 않은 만큼 현재로서는 완전한 주행이 힘들것으로 보인다.   \n",
        "하지만 앞으로 지금까지의 발전속도를 봤을 때  재료개발과 인공지능 기술개발을 통해 몇 십년 안에 완전 자율주행에 가까운 기능을 구현해 낼 수 있을 것이다."
      ]
    }
  ]
}