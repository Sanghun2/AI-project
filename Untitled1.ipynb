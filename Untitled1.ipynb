{
  "nbformat": 4,
  "nbformat_minor": 0,
  "metadata": {
    "colab": {
      "name": "Untitled1.ipynb",
      "provenance": [],
      "authorship_tag": "ABX9TyPnbSFWxItUq6ux40YkUlAR",
      "include_colab_link": true
    },
    "kernelspec": {
      "name": "python3",
      "display_name": "Python 3"
    }
  },
  "cells": [
    {
      "cell_type": "markdown",
      "metadata": {
        "id": "view-in-github",
        "colab_type": "text"
      },
      "source": [
        "<a href=\"https://colab.research.google.com/github/Sanghun2/AI-project/blob/master/Untitled1.ipynb\" target=\"_parent\"><img src=\"https://colab.research.google.com/assets/colab-badge.svg\" alt=\"Open In Colab\"/></a>"
      ]
    },
    {
      "cell_type": "markdown",
      "metadata": {
        "id": "ZyT9QWAsDLje",
        "colab_type": "text"
      },
      "source": [
        "# _**인공지능을 사용하는 제품 및 서비스**_"
      ]
    },
    {
      "cell_type": "markdown",
      "metadata": {
        "id": "NroktNHLOMhE",
        "colab_type": "text"
      },
      "source": [
        "* 언어"
      ]
    },
    {
      "cell_type": "markdown",
      "metadata": {
        "id": "mTDCC2YsPPY_",
        "colab_type": "text"
      },
      "source": [
        "* 음성"
      ]
    },
    {
      "cell_type": "markdown",
      "metadata": {
        "id": "RDlb14neP1En",
        "colab_type": "text"
      },
      "source": [
        "* 이미지"
      ]
    },
    {
      "cell_type": "markdown",
      "metadata": {
        "id": "cgoIl_k8QhII",
        "colab_type": "text"
      },
      "source": [
        "* 자율주행"
      ]
    },
    {
      "cell_type": "markdown",
      "metadata": {
        "id": "5bdClp-tQkCT",
        "colab_type": "text"
      },
      "source": [
        "***\n",
        "\n"
      ]
    },
    {
      "cell_type": "markdown",
      "metadata": {
        "id": "_XqG2b1MQkfC",
        "colab_type": "text"
      },
      "source": [
        "# 1. 언어 - 파파고(네이버)"
      ]
    },
    {
      "cell_type": "markdown",
      "metadata": {
        "id": "RL8ZlZhsspwg",
        "colab_type": "text"
      },
      "source": [
        "![papago](https://newsimg.hankookilbo.com/2018/04/27/201804271786835625_1.jpg)\n",
        "\n",
        "\n",
        "\n"
      ]
    },
    {
      "cell_type": "markdown",
      "metadata": {
        "id": "aVFf8Q13Q_BU",
        "colab_type": "text"
      },
      "source": [
        "# 2. 음성 - 삼성(빅스비)"
      ]
    },
    {
      "cell_type": "markdown",
      "metadata": {
        "id": "ruHd9iH1upWn",
        "colab_type": "text"
      },
      "source": [
        "![](https://www.businesskorea.co.kr/news/photo/201907/33406_45244_1824.png)"
      ]
    },
    {
      "cell_type": "markdown",
      "metadata": {
        "id": "MQ-7Fj6lRW2Q",
        "colab_type": "text"
      },
      "source": [
        "# 3. 이미지 - 홈로봇 클로이(LG)"
      ]
    },
    {
      "cell_type": "markdown",
      "metadata": {
        "id": "_ARE9ZPSvsTw",
        "colab_type": "text"
      },
      "source": [
        "![](https://encrypted-tbn0.gstatic.com/images?q=tbn%3AANd9GcQCPpx0QmiYdyBmppyllBiNjx64H4039pXXbtfZQMsu9gPe1ouo&usqp=CAU)"
      ]
    },
    {
      "cell_type": "markdown",
      "metadata": {
        "id": "52QcQo8ORZ-S",
        "colab_type": "text"
      },
      "source": [
        "# 4. 자율주행 - 오토파일럿(테슬라)"
      ]
    },
    {
      "cell_type": "markdown",
      "metadata": {
        "id": "oBFqQ2cTvvbJ",
        "colab_type": "text"
      },
      "source": [
        "![](https://encrypted-tbn0.gstatic.com/images?q=tbn%3AANd9GcSqnL0GrJrVjXe8VES3yMfRb0hQQOSJLfJJbLtGCYBUR4r7Yfni&usqp=CAU)\n",
        "![](data:image/jpeg;base64,/9j/4AAQSkZJRgABAQAAAQABAAD/2wCEAAkGBxISEhUSEhIVFhUXFRUVFRUVFRAVFRUVFRUWFhUVFRUYHSggGBolHRUVITEhJSkrLi4uFx8zODMsNygtLisBCgoKDg0OGhAQGi0fHR0tLS0tLS0tKy0tLS0tLS0tKy0tLS0tLS0tLS0tLS0tLS0tLS4tLS0tLS0tLS0tLS0tLf/AABEIAL4BCQMBIgACEQEDEQH/xAAcAAACAgMBAQAAAAAAAAAAAAADBAIFAAEGBwj/xABDEAABAwICBgYHBgQEBwAAAAABAAIDBBEFIRIxQVFhcQYTIoGR8AcyUqGxwdEjQmKS4fEUM6KyJFNyghVDVGODk9L/xAAZAQADAQEBAAAAAAAAAAAAAAAAAQMCBAX/xAApEQADAAICAQMDAwUAAAAAAAAAAQIDESExEgRBURMicYGh8TJCYZGx/9oADAMBAAIRAxEAPwD1VbWLdkAZZbssst2QBlluy3ZbAQBoBbstgKQCABkIb0ZyA8pgAkScqalKUkKBisqVkTUiWegBd4QXNTLghkIAXc1I1smiFYzGwXOYlOMyTkExFTiU4aC469ipaOgM79N3qX8U6yB1TJ+Aa/om6+tZC3RbbkEgNzSMjFsuVwufxHFs8j8PO3aka/ES4kXPnzqVYbk5p6Mug0tUXbfghgn4rQatsBJDQCSTkACSe4BPRjZNp+SK0nz54rpMD9H9dU2Ij6tvtSZd4aM/Gy7jDPQ8wWM9Q4naIw1o5Z3PvRsemeUAFS0D5v4r3OH0X4c3XHI7iZZR/aQtVHoxw9ws1srDvbK4kf8As0h7keSDwZ4W9pGv5oZevUMb9FUrBpUsolAz6uSzHnk/1XHnorzquonxucx7HMe02cx40XDnfZxWk9mGmhTrFsPQnBRBSaHNFhGb+fmiXPkpaDZyTOawVPpiylZYtgJDMstgLYWwEAYApALYCkAgDQCwqSG8oAg8peQoj3JaRyABSlKSFGkclZCmME9BciPKxkV9eQSbS7BJvoXtdbfFYXdl8UaSoYzaO7MqtqcSbsaL7zmo1m+DojA32J4xVNaAL69e0DwXKVYMz+rb6o9Y7gugrKjT1geAVPMHhrurtcjxtxTx5G3phmwqVtCGJ17IW9XHsyK5KqnLimpiXHPbfz70Ax+fPNXSOKqExHvUXZeNst6fpKKSd4ihaXOPgNl3HYPOa9S6PdC6XD2Nqa12lIfUba7ifZiZ8/gtGUtnG9E/R1VVhDpAYo8tY7ZHL7vf4L0yhwvCsKGiS103stHWSk8QMx32VfiOO1VSOri/w0OrRj/muH4pPu8h4pXD8NZFm0ZnWbkk8ztRx7mvGvb9zqh0mqH/AMiiLW7HTvDMv9DR81b0OJPLftQ0v/7YIaOHaNyuMMpG1aZij2G91rcfBCsfqO1S/wBHe/xo2sd/SfmpxVDHZA57jkfAqmwPG2Six17lZV1KHC7cnbDxS8ZMLLlSfu12nwxshc30z6JxV8VjZszQeqltmD7Lt7Du2awn8JxTSJikyeDbPXfce7MHarYhZqXD0zow5pzR5L+D5ZxKkfE98cjdF7HFr27iDs3hJEL1D00YPozMqWjJ7Q1/+puQv3WXmTQtLlGWtMYpQnrDegUbE3bgsMqj6SAUgF5LTdO6xtrlruYVzR+kc/8ANh72lS+pJd46PQwFIBc7hvTOkly09A7n5e9dDBK14u1wcN4IK0mmYaaCALawlDc5MRjnIL3LHPQHvQBqR6VkcgVmJRs1nh5JyVVVYvl2fkfes1cyUnHTLKaUDWbKrqsVY3Vn7gqepr7n6pJzy4qFZm+jon06XZcOxU6xZLS4g921KMjWOuFNtvstMqekT0ituWBDkdkmpHsHIgaCndGjZl+/n48l0+nx7o5fUZNScVitOGSvA3k+Pa+aDhmEy1UgiiG7SdbstHHjuH7q2lon1NS6OMazYutk1oNtI+GQ2rt7sw6MU9OAalwu5xsep0h67t8p1gbBYnYD0Vwzz5WzdJTU+FM6qJgkqnZkHPQJHrzHfuZ8AloaKWd5mlcXOOt7zZo/CNwHstF+CzD8P+865cTcuJJJJzJJOZKvaaDK4Y3/AFyFugOAa7J3g7uWC+tAKalj2dZId0TbDlchxP5Wo0ksDTaSmkb/AOR4d3BzQCnGslfZratmlqDBJKwcm9kDuslJMZmgc6Kpb1jRk6OQhx1XBD8943oADWYdG+J01NJpNYLyRyWbIwb8siPptOS5SoqFOtnBJIFgSbC5NhfIX22VRUzoDY9QYj1crTewJs7kdvdr7l6RgOJl943G5A0m31luog7y05X4jivF6iddj0VxM/xYbfW+QeOll428FfAvJUvhbPP9d9lRa+dHa9IKa1p2ZOZbSI2svr/2nteO9XtHN1kbX7xnwO0eN0vURBwLTqc33OGfzQujJPUAHY4j5/NK+Y/Bn03253r+5fuv5KT0oUYkoJb62jSHMEH5L5+gbdfQ/pKm0aGTiLeK8BoosrqcdHZk7G6dlgid6m0WCHdI2i6Y1EDFsNUgvPPT0Q6oFGp6iWI3jkew/hcQoOdZAkqAmtiaR0lF03rY7aT2yjc9ov8AmbYq+ovSNE4gTRPjJ+809Y3nbJ3gCvOA4lOwMtsW1bRJ45Z6lU9JIAOy4vNr5AgeJVFXdIw8WOk07gez46/cuS60jK55Z28FNoJSrK2bnCkN1NU9x9c25nwz2cFkV1GKNNsYplTTYURkKJCzOyZ0E0g2Qa1DciyZBKOkWkhbNSlClcsJuUN5zsqTLZirSNxsW6guDeyLuNg0e0TqGoZXI3rNJWOFsY3SmkyjjBcTbPLcDtOoc1340onZ5manb0Eo4G4dTggB1TLfQvnY7ZXD2W3yG096DhWHkm5u573XJNy5znHMneSUlDWOqJnTya3WAbsYweqwcAPEknau9wyk6iN0x0dIMdle7mE2DG2G03NzwAG0mJRLRUNgI0rD1R2s29nOwub792uxUOokdo6LC7T0tC2j2tD1rZ6hvOSdmhN20oOiR9pO/wBjK5JO5jTYbCTxSlHXdZUOmDnR09OwE6JI+yb/AC4stZeW3I22PBNIVXoQxCjqI2lz4XtaNZIyHMhUr5nyXLQ5+faLQ51j+Ii9u9X1NiT6lk9TVvcaSJwd1IIAkkJ+ziB16Iu2++44qPRjppUzVkUDWRticS3qo2ABjA0m4OvK3LgFvTRDy21z2cXU1KqqioVz6QaqP+PqOqtoh4Btq0w1ok/r0u+65GadZZuWGdJcgbzbxyXT9BiZKyNw2vc/uJLlxLZLnLu5nIfXuXpfooodKZ0lsmtsOZy+qv6fhVRyeve/Gf8AJ6sW9kHc0DwQOj7LRc3uPyTeIO0YzyUKduhE1vC5781Fv7f1K4o1l/C/6cJ6Yqy0DYxtJK8ppYrABdl6TK3ragMByYPeuVaLBNcIrXNApzZKafFEqpEp1qmyh1vWCyFJOAk9NztQU4acnMri0el5E3Sl2pShgvrRWx21I8TEt6FrZKOGyZZEtxBMtYstlFIERJiOJTYxHAQaMjjR2RqDTdGblyWkhM2zJYZVooEjbqilsm6SNzS3KETdYISptYrRhbI3mSBkITxbWjyZBV9RMSbBdM4tHJeYNBd7g1us+SUTpZOGBlIw5Cz5eLvutPLM94Vn0SpQ1j6h+rMt5DV4n5Lj55jLI+R2tzi7x1Dwss5K9kZhc7Y/hdUWEEaxmOB2HmumocXcxtgR6zXm+slhu2/C65fDGjT0iQA3PPVcAkX4CxPcN6vYZDGwdWzrHB4Y0FulpTEBznlu0jstaDkLO3BYk3T0hvHek0kzS2zWtNtLQGb7atJ2sgblR1mN/wCFFMxujd5klde5kd9wWtkALZZ6gV1WI1UYkZI+COeSUx0zY7Atc9lv4iVuWx5EYP4HbEKXo3TXqKgwSyQ9cWRiFzRoMjaRNKdJ4u3rA5oGfq5ZFWlyjjtW29MQ6O4zQyULqKrkMXbLtMA9rtBwcHAEAi1rHYAqur6S0dBG+PDdOSd4LXVcoALG7o22Gf8AtA1E6VlyGLzx9Y/qdIR6R0NMgu0dmlbK6paiZOkhTTN1FRx8daSklUJZFlLGXG+we87B8zwCm+Ss8IeoISTfzc6vd8SvfvRvhHU07SR2n9o8tnnivL+gmAmonaCOy06Tj53r3qNojZbVYLov7IULtnHL+rldvqRPEpAXNbsvnyCrcWxUNDnXyANu5K4nXZnechyXH9LMTtHoA5nWo1PsdOKuHT9zkcRnMsrnnaSUtO6wU2jakqqRZplYQpO7NL6S3KUFYKnfmNsbhYZKErM7jagCoLxmiRkrhPRSJMamoWIUbE7HGsm0iccSOxllkIRyg0RDVhWw/ciNbdaS2JvQWCNEEd/PngiMaLZJ2ipze+xdWLDs482fSK/+HO3ePfl9EUU3j5P1CspqfO28fDV8ltjQPPK/uK75xSjzb9S2V7KT3ZeF/oEKRrR571LF8TigHbeASMmjNx4hvzXFYrj75eyy7G8PWPMjV3LbqI7JL6mTrousQr2A6IzduGzml9HSaGt9Z5De9xsOYzVRh0a6XojF1tVG29wwOktlsaG/FwXPeV1+C8Y1P5Onx6mENBoNy7Nvdb42XmjAvU+mo+wc3g3+79F5W91lF9IvL5ZGSW2opuhxeaNrmslc0OuTa1yTr7WsX4KqkfmiMOSrjk5s9/B0MnTCdsLYWNiZoM6tkjGfatbax0XkmxO0gXzWukXSullphHDHUQyNjZC0CY9T1Tb6Qc0OAcSCRm3O+a5aolVVUzKjSRCap8MHUTKumkU55EsxhebN/QDeTsCm2XmTI2F7tEcydgG0ldFhOHF7msYDnkBtz1k8T9BsQcOoNTWgkkjZm47yNgGwfNe0ej/ogIQJZR2yMh7I+qtjlQvOjmzZXT+nBd9C+j7aWEC3aObjx3JrHK4AWBT9fVCNtlw2K12mTnkppun5Mfikvpz+olX1mtx2LiMRqjI8nYrLHMQv2GqiJsk2XlEZ3WCqal6aqZFXTFSZ0JA3FaWNUtFZNnW04TkQSkKcjXCeihunZmnGpOIplr0aNbDtK29yGxy285rSkXkGYm6diUhF1aUbQNa6sGLb2cufNpDdPBfM6laU7QAlIXIGKYkI2WB7RyH1XfpSjyburekCxTEmMcS52QFuPguQx7pg5rD1I0dgcdfCw2J19LpZnM71yfSnC3gtcPU281Gs7pangtPpFHNcldSuc4l73FziblxNyeZKcaM/qlIMgmYz5/VRRZl3Ral1vo3ptKqld7Mbf63H/wCFx1LJYLu/RbKOvnG0xxHwdJf+4JsS7Oh6V0heHAf5Y+Ll47iDCxxByzX0HVsBacv2XnnTLolp/aR7VpfckRbcW/hnmLMyiPdYJqrw58PrtIG85Dx1Koq66Mffb+YK0rSOe35PgFVSqpqJExLKX+o1zuIBA/MclkOFPce3+VuZ7yjxqukNVMf1Mro4i85at/03q+wnCnOIZG0kk6hmSd5O0rpujfQaaa3Y0Ge0dv1XrXRvorDStGi27trjrP0W/GcfNcsm8t5ftxrgo+hPQhsFpZRd+wbG/qu1qJ2xtUaqrawZLkMXxUuJAKm27e6NTKheMd+7NY1iZcSAVyGL19gQDmp4niYb2Qc9p3LmamYuKGykzrhApH3NylppESV9lXVEylTOmZBTyJYlSe5QCmVRtrVOywLEDOqiTMbkix6K2Vceju2WUb0Rsir2SIokWkgdFk2VTbIq5si2Z1aYIVZcQTAJ+GqXMCpsouxI6mrtiphcnDkmrekdTV4sGDXnuVXFKZDpOOap9Ik3JVnSOsufNmd8Lo6cHp1j5fZeU7BZRrKEOaQQh0sysYjfJGPsebo81xvDHQO/CdRSMb/P6L0jpNRB0DgRewuDuXmURz/dUqfFnMq2i4gfkui6CYl1NdHc5SNdGd1zZw/tI71y9ObpyGB+RabOaQ5p3OBuD4gLOg3o+hhmOaVcQ3sv1bCdVkn0UxZtVTtkGv1Xt2sePWafiN4IKYqMQhLjG45jXlkO9KU96Hk68kxerwdj72yJ12tnzByK5uu6Csebiw4hoC6QQvZnC8Ob7JzHdtb7xwUhXyD1ondxBH9Vlebuf6WcFxjp/cmvwcfF6OIye09x4K/wvodTQ5iME73WKs/+In2HDnb5XQpcQPAd/wBE3ky12zKx4J+WPAMYEhX4mANarKzEeN/h4LmMZxdkY0pH24bTyCyp1yynk64XCH8SxMu22C5DEsYuSyM3O12wJCsxWSf1bsj3/edyVdI4AWbkE2zczrhG5ptnid6We5Y96VmkU6ZeJIzyKvmfdTmkSpUyyRsFEYFFqI0JDNlRUnFQQMv2vUwUmyREbIudI62xxsmSmJ1WulsguqdyqpIui3/iUCfE2t23KrJy4tyNlSu0mu7Xitql7E3L9zozXOfwCdpnrnqaZWdPKpU23yWjSXBeskTkMqpY5E5DUJI22X9PKr2ikC5CGpVjDiFtq6sWkcubbOgxuqaIX3P3SvH48yea6XpJjOmOqadetUNOxbyUm+DniWkXGFw3K6SClAzHnvXP4fJb3bCbd+vauhpKnLuG/wCFkkJhqWsmpXmanPrC0kZ9WQfJwvkfjexfwLpFFLJ2naDz91/ZN+/WlSBsSVbh7JPWbc789Ibs1pcMna2tHozQFhcd58SvL4oqiLKGplaNgJJCk+sxD/qnfl/VU8kc30WekvcdpVBi/SSmhvpytv7LTpO8Bq71w9TSTyfzqmRw3XPwJKCzDIWZ20j+LP4pNm1i12OV/S2acltNGWj/ADH2/Ye9VIpM9OZ5kfrz9Uct6cmntlq4alXzTLDZVL4J1EySe9RklS0kixVFpklJIk5ZVksiVe9TbLJEXuWlElSCQwjAihDYplAyDio6S08qF0AWIkWxKlS9RMiikXbGJpb5BThakRLmnIZFpmZ+R2NiHVUYcNSlTvzVhYELBQ5o0jmlGjeW61cyQpWpo8lpPZhrXRkM6YFUN6r9PRaqN0hc4nitqSTvR2H/ABFjdbglKrHDqZ4rn2FEutLgy3scjnJOZ8U7DJ5t8s1TByZgmTMl/Ty+bi/d9Fb0tTq1e/6Lm4JfPk3TsE27z8lpMxUnURVmQzHDV7tiOanz57lzcdV8NpzytwTAqdl9/wBdfnUqJkmi6dUjz585IElQPPfu71Vmsvt32zvrH1Qn1XnLgjYtD0tTx+e/ck5qjcfeEnJUbL57j9ErLPxt7/ik6NKRiebj8ErLMUGSRBfIsNlFJN8iBJJdRe9Lvcs7KJG5HoLisc5DukBIIrAhNR4wgYQBacVslCeUDIPKHdY4qN0AEMiG+VBL0IvuspDdDMbk0yRV7XIrZENGpZbwzJ2OdULJE3FOsNFFReRyrJ5RZVTZ1Gaq2ISFTFsSnytvyVdGt1Ul3clpisjnfYcKRQwVu6AJXUmPQiVJpQBZ08vLz4ppst/2+ZyHNVsLuaOHoAsBPx94PvUxUW2eNrZZ7Lccs1W9Zx8T9VvrOY3fv596ezPiWJqOPeM9u3f8UN05427j8cv2STpd/wCo8fkoGTl+vI+c0bF4jbpuOfNCdJ5+CX6w925QLktmtBnPQ3PQ9JRLkhknOQXPWi5QLkAYVgCjdSagYVgR2obAiBAzCUJ5U3FBeUADcVG6xxUUCFiVEhYCt3QI2HKbXIa2EAHa9EE1kqFjijQ/JjYqSVtz7BLsWp3I0DZAG5RGFCaEZoTMk7rLrQCyyBm7qbAotajMakAWNS0kMLRKAC6fkZLRf5396EX2Wi7zkgAumP3/AEWtPv5/UckIut5Hv3rLoAJprRchkrLoGELlAlRJUCgCRKiVouWkxEgisCC1HYkMOxbK0FhKBkHFBeUVxQXIAGStLCtXQI//2Q==)"
      ]
    },
    {
      "cell_type": "markdown",
      "metadata": {
        "id": "KGFSlU4W2AoH",
        "colab_type": "text"
      },
      "source": [
        "[계획](https://colab.research.google.com/drive/1zCyPCc7Idj3dtr2ODomGnKRex28Pr9Va#scrollTo=KGFSlU4W2AoH)"
      ]
    }
  ]
}