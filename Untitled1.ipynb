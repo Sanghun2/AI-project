{
  "nbformat": 4,
  "nbformat_minor": 0,
  "metadata": {
    "colab": {
      "name": "Untitled1.ipynb",
      "provenance": [],
      "authorship_tag": "ABX9TyPQDR9NAiEUcPmvsC32Hi95",
      "include_colab_link": true
    },
    "kernelspec": {
      "name": "python3",
      "display_name": "Python 3"
    }
  },
  "cells": [
    {
      "cell_type": "markdown",
      "metadata": {
        "id": "view-in-github",
        "colab_type": "text"
      },
      "source": [
        "<a href=\"https://colab.research.google.com/github/Sanghun2/AI-project/blob/master/Untitled1.ipynb\" target=\"_parent\"><img src=\"https://colab.research.google.com/assets/colab-badge.svg\" alt=\"Open In Colab\"/></a>"
      ]
    },
    {
      "cell_type": "markdown",
      "metadata": {
        "id": "ZyT9QWAsDLje",
        "colab_type": "text"
      },
      "source": [
        "# _**인공지능을 사용하는 제품 및 서비스**_"
      ]
    },
    {
      "cell_type": "markdown",
      "metadata": {
        "id": "NroktNHLOMhE",
        "colab_type": "text"
      },
      "source": [
        "* 언어"
      ]
    },
    {
      "cell_type": "markdown",
      "metadata": {
        "id": "mTDCC2YsPPY_",
        "colab_type": "text"
      },
      "source": [
        "* 음성"
      ]
    },
    {
      "cell_type": "markdown",
      "metadata": {
        "id": "RDlb14neP1En",
        "colab_type": "text"
      },
      "source": [
        "* 이미지"
      ]
    },
    {
      "cell_type": "markdown",
      "metadata": {
        "id": "cgoIl_k8QhII",
        "colab_type": "text"
      },
      "source": [
        "* 자율주행"
      ]
    },
    {
      "cell_type": "markdown",
      "metadata": {
        "id": "5bdClp-tQkCT",
        "colab_type": "text"
      },
      "source": [
        "***\n",
        "\n"
      ]
    },
    {
      "cell_type": "markdown",
      "metadata": {
        "id": "_XqG2b1MQkfC",
        "colab_type": "text"
      },
      "source": [
        "# 1. 언어 - 파파고(네이버)"
      ]
    },
    {
      "cell_type": "markdown",
      "metadata": {
        "id": "aVFf8Q13Q_BU",
        "colab_type": "text"
      },
      "source": [
        "# 2. 음성 - 삼성(빅스비)"
      ]
    },
    {
      "cell_type": "markdown",
      "metadata": {
        "id": "MQ-7Fj6lRW2Q",
        "colab_type": "text"
      },
      "source": [
        "# 3. 이미지 - 홈로봇 클로이(LG)"
      ]
    },
    {
      "cell_type": "markdown",
      "metadata": {
        "id": "52QcQo8ORZ-S",
        "colab_type": "text"
      },
      "source": [
        "# 4. 자율주행 - 테슬라 오토파일럿 기능"
      ]
    }
  ]
}