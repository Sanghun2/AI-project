{
  "nbformat": 4,
  "nbformat_minor": 0,
  "metadata": {
    "colab": {
      "name": "Untitled1.ipynb",
      "provenance": [],
      "authorship_tag": "ABX9TyOYrOI74V7/a/Hhr5mL24Zj",
      "include_colab_link": true
    },
    "kernelspec": {
      "name": "python3",
      "display_name": "Python 3"
    }
  },
  "cells": [
    {
      "cell_type": "markdown",
      "metadata": {
        "id": "view-in-github",
        "colab_type": "text"
      },
      "source": [
        "<a href=\"https://colab.research.google.com/github/Sanghun2/AI-project/blob/master/Untitled1.ipynb\" target=\"_parent\"><img src=\"https://colab.research.google.com/assets/colab-badge.svg\" alt=\"Open In Colab\"/></a>"
      ]
    },
    {
      "cell_type": "markdown",
      "metadata": {
        "id": "ZyT9QWAsDLje",
        "colab_type": "text"
      },
      "source": [
        "# _**인공지능을 사용하는 제품 및 서비스**_"
      ]
    },
    {
      "cell_type": "markdown",
      "metadata": {
        "id": "NroktNHLOMhE",
        "colab_type": "text"
      },
      "source": [
        "* 언어"
      ]
    },
    {
      "cell_type": "markdown",
      "metadata": {
        "id": "mTDCC2YsPPY_",
        "colab_type": "text"
      },
      "source": [
        "* 음성"
      ]
    },
    {
      "cell_type": "markdown",
      "metadata": {
        "id": "RDlb14neP1En",
        "colab_type": "text"
      },
      "source": [
        "* 이미지"
      ]
    },
    {
      "cell_type": "markdown",
      "metadata": {
        "id": "cgoIl_k8QhII",
        "colab_type": "text"
      },
      "source": [
        "* 자율주행"
      ]
    },
    {
      "cell_type": "markdown",
      "metadata": {
        "id": "5bdClp-tQkCT",
        "colab_type": "text"
      },
      "source": [
        "***\n",
        "\n"
      ]
    },
    {
      "cell_type": "markdown",
      "metadata": {
        "id": "_XqG2b1MQkfC",
        "colab_type": "text"
      },
      "source": [
        "# 1. 언어 - 파파고(네이버)"
      ]
    },
    {
      "cell_type": "markdown",
      "metadata": {
        "id": "RL8ZlZhsspwg",
        "colab_type": "text"
      },
      "source": [
        "![papago](https://newsimg.hankookilbo.com/2018/04/27/201804271786835625_1.jpg)\n",
        "\n",
        "\n",
        "\n"
      ]
    },
    {
      "cell_type": "markdown",
      "metadata": {
        "id": "J-p5E_J94Mzc",
        "colab_type": "text"
      },
      "source": [
        "**<설명>** 파파고는 네이버가 2016년 8월 8일 애플리케이션으로 선보인 인공지능 기반 번역기이다. 언어를 입력하고 번역할 언어를 선택하면 입력한 언어를 선택한 언어로 바꿔준다.    \n",
        "지금은 텍스트뿐만 아니라 음성, 사진속 문자까도 통번역 할 수 있다고 한다.    \n",
        "2016년 10월 26일부터 한국어↔영어 간 신경망 기반의 번역이 도입되어 번역 품질이 좋아졌다. 2016년 12월 13일에는 한국어↔중국어간 번역이 도입되어 중국어 번역 역시도 품질이 좋아졌다. 현재 스페인어, 프랑스어까지 추가하며 역시 두 언어에도 인공신경망이 도입되었다. 이 이외에도 계속해서 다양한 언어들의 신경망이 추가되고 있다."
      ]
    },
    {
      "cell_type": "markdown",
      "metadata": {
        "id": "rtkCREE84OAo",
        "colab_type": "text"
      },
      "source": [
        "**<기술 및 원리>** 몇 개의 단어가 모인 구(Phrse) 단위로 쪼개 번역한 것과는 달리 인공 신경만 번역은 문장을 통째로 번역하는 방식이라고\n",
        "할 수 있다. 인공 지능이 전체 문맥을 파악한 뒤 문장 안에서 단어와 순서, 문맥, 의미에서의 차이 등을 반영해 번역하는 방식이다. 네이버 번역앱 파파고에 적용된 N2MT(Naver NMT) 기술은 1000차원 벡터를 활용한다. 입력용 한글 문장과 출력용 영어 문장으로 이뤄진 학습 데이터를 활용하여 인공신경 망을 학습시킨다.    \n",
        "인공지능 방식이 적용되기 전에는 규칙기반번역(RBMT)이 활용 됐다. 알고리즘으로 You are a boy 라는 문장이 있다면 'you=당신', 'boy=소년' 'are=이다'로 인식한다. 컴퓨터는 한국어와 영어 간 주어·서술어 순서가 다른 점을 감안하여 이를 재배열 하여, '당신은 소년이다'로 번역한다. 기존의 방법은 \"아버지가방에들어간다.\"에서 가방을 \"bag\"으로 번역하는 기술의 한계를 보였었다.    \n",
        "다음으로 적용된 방식이 통계기반번역(SMT)이다. 인공지능이 보다 가까워진 번역 방식으로 인공지능에 보다 가까워진 번역 방식으로 특정 단어가 통계적으로 많이 쓰이는 뜻으로 컴퓨터가 찾아 해석 결과는 내놓는 방법이다.    \n",
        "인공신경망번역(NMT)는 RBMT, SMT 보다 몇 단계 진화한 방식으로 문장 단위로 컴퓨터가 인식한다. 문장이 입력되면 인공지능은 두 문장 사이의 유사성을 파악하고 학습하여 이후 비슷한 문장이 나오면 이를 응용하여 나타내 준다.   \n",
        "알파고가 셀 수 없이 많은 데이터를 입력받아 학습을 했던 것처럼  파파고도 수백만, 수천만 영어·한국어 번역 사례를 공부하고 인간이 요청한 문장에 대한 번역을 수행하면서 계속해서 학습해 점점 더 정확하게 번역이 가능해지고 있다.\n",
        "\n"
      ]
    },
    {
      "cell_type": "markdown",
      "metadata": {
        "id": "C4dbQ5NG6R_N",
        "colab_type": "text"
      },
      "source": [
        "**<활용 사례>** 파파고는 일반적으로 복사 붙여넣기나 본인이 직접 작성해서 번역을 할 수 있다. 또 번역창 밑에 해당 단어와 관련해 뜻이나 숙어등을 분석해서 알려주기 때문에 어학공부를 할 때도 꽤 유용하다.   \n",
        "파파고에는 또 여러가지 기능이 추가됐는데 '1:1 대화모드', '아미지 번역(OCR모드)', '환율 자동변환' 등등 유용한 기능들이 매우 많다. \n",
        "\n",
        "**의외의 기능)** 파파고는 상당히 높은 번역 정확도를 보여주는데 데이터를 기반으로 학습하는 딥러닝의 특성 때문인지 사람들이 일반적으로 사용하는 말을 번역하는 것 이외에도 단어의 외형을 이용해 바꿔서 말하는 단어도 번역을 해준다.   \n",
        "[초월번역 사례](https://www.google.com/url?sa=i&url=https%3A%2F%2Fnews.chosun.com%2Fsite%2Fdata%2Fhtml_dir%2F2017%2F11%2F15%2F2017111501686.html&psig=AOvVaw3UKlYIGXt-4Wv0ZehQXiv2&ust=1590715998809000&source=images&cd=vfe&ved=0CA0QjhxqFwoTCNCiuoK11ekCFQAAAAAdAAAAABAN)"
      ]
    },
    {
      "cell_type": "markdown",
      "metadata": {
        "id": "H1j1Vl-M6TQa",
        "colab_type": "text"
      },
      "source": [
        "**<문제점 및 보완>** 파파고의 번역기능 자체로는 문제가 없다고 생각한다. 다만 보완해야 할 점은 아직까지 세세한 뉘앙스차이 같은 것은 분석했을 때 차이점을 명확히 드러내 주지 못하기 때문에 아쉽다는 점이다. 음성인식 기능과 더불어 번역기능은 앞으로 인공지능의 성능에 있어서 아주 중요한 점이기 때문에 현재에 문제가 없더라도 앞으로 더 높은 수준을 향해 계속해서 발전시켜야 한다고 생각한다. "
      ]
    },
    {
      "cell_type": "markdown",
      "metadata": {
        "id": "K8yrtyKqtZZM",
        "colab_type": "text"
      },
      "source": [
        "***"
      ]
    },
    {
      "cell_type": "markdown",
      "metadata": {
        "id": "aVFf8Q13Q_BU",
        "colab_type": "text"
      },
      "source": [
        "# 2. 음성 - 빅스비(삼성)"
      ]
    },
    {
      "cell_type": "markdown",
      "metadata": {
        "id": "ruHd9iH1upWn",
        "colab_type": "text"
      },
      "source": [
        "![빅스비](https://www.businesskorea.co.kr/news/photo/201907/33406_45244_1824.png)"
      ]
    },
    {
      "cell_type": "markdown",
      "metadata": {
        "id": "brRSzkQddYkn",
        "colab_type": "text"
      },
      "source": [
        "<설명> 빅스비(Bixby)는 삼성전자가 2017년 3월 30일에 공개한 음성인식 기반 개인 비서 애플리케이션이다.\n",
        "\n",
        "삼성전자가 비브 개발진과 협력 해 개발 한 딥러닝 기반의 발전된 삼성전자의 소프트웨어 인공지능 서비스이며, 갤럭시 스마트폰 뿐만 아니라 삼성의 모든 스마트 기기에 탑재할 것이라고 한다.\n",
        "\n",
        "빅스비는 이용 데이터가 쌓일수록 더 정교해지는 딥러닝 기술을 바탕으로 개발됐다."
      ]
    },
    {
      "cell_type": "markdown",
      "metadata": {
        "id": "ImHhJCbZevDK",
        "colab_type": "text"
      },
      "source": [
        "<기술 및 원리> 빅스비 보이스의 자연 언어 처리 시스템의 구조는 다음과 같다.\n",
        "\n",
        "먼저 자연어가 입력되면 단어별로 쪼개서 각 정보를 찾는다.\n",
        "\n",
        "예를들어\n",
        "\"오늘 아침 10시에 서울역의 날씨가 어떤지 알려줘\"\n",
        "라는 명령이 들어오면, 처음에는 날짜(Date time, 기간), 시간(AM, PM)을 먼저 확인한다. 그런 다음 과거, 현재, 미래형인지 인식한다.\n",
        "\n",
        "이후, 서울역, 날씨에 대한 명령어를 확인 하고 빅스비 브레인에서 장소, 날씨 캡슐로 이동하여 장소 포인트, 날씨 상태에 대한 측정 액션을 불러온다. 이들을 종합해서 날씨 상태를 판단하는 목표를 인식해서 태스크를 실행한다. 이를 통해 각종 자연어 및 복잡한 언어 패턴에서 작업을 수행할 수 있다.\n",
        "\n",
        "또한 빅스비는 스마트폰 화면의 객체를 분석하기 때문에 모든 작업을 수행할 수 있다. 그로인해 작업을 차례차례 진행하며, 작업을 완료 하기까지 시간이 좀 걸리는 편 이다, 다만 이 점은 지원하는 앱의 일부의 기능만 부분적으로 수행할 수 있는 다른 AI와 비교했을때 빅스비만의 차별화되는 특징이다.\n",
        "\n",
        "이 점을 이용 해 빅스비는 관용적인 언어를 인식한다. 직접 말 하지 않더라도 사용자 내린 명령에서 지칭하는 것이 무엇인지 화면에서 객체를 찾아서 명령을 수행할 수 있다.\n",
        "\n",
        "여기에 빅스비는 문장의 맥락을 인식할 수 있으며, 그로인해 다중 작업을 한 번의 명령으로 수행할 수 있다."
      ]
    },
    {
      "cell_type": "markdown",
      "metadata": {
        "id": "HOLqBPLR0F7F",
        "colab_type": "text"
      },
      "source": [
        "<활용 및 사례> 실제로 빅스비는 상당히 많은 기능을 가지고 있다.    \n",
        "[빅스비 사용법](https://www.samsung.com/sec/apps/bixby/)   \n",
        "기본적인 스마트폰 내 앱 컨트롤부터 하나의 명령어를 말하면 그 단어에 저장된 기능을 동시에 사용해 준다든지, IOT와 연결해 디바이스 제어, 또한 정해진 시간이 되면 그 기능을 실행해주는 '빅스비 루틴' 등 생활을 매우 편리해 질 수 있도록 도와준다.\n"
      ]
    },
    {
      "cell_type": "markdown",
      "metadata": {
        "id": "5Y0j0pUiylWt",
        "colab_type": "text"
      },
      "source": [
        "<문제점 및 보완> 지금까지 쉽게 접할 수 있는 기술 중 개인적으로 가장 많이 이용하고 있는 기능으로써 기술적인 문제점은 크게 보이지 않지만 좀 더 자연스러운 대화방식을 통해 관리를 할 수 있다면 더 좋을 것이라는 생각이 든다. 따라서 인지하고 분석해서 답을 내놓는 속도가 더 빨라져야 괴리감을 느끼지 않고 대화를 하는 것 처럼 일상에 녹아들 수 있을 것 같다."
      ]
    },
    {
      "cell_type": "markdown",
      "metadata": {
        "id": "BeQcTWdCtbl4",
        "colab_type": "text"
      },
      "source": [
        "***"
      ]
    },
    {
      "cell_type": "markdown",
      "metadata": {
        "id": "MQ-7Fj6lRW2Q",
        "colab_type": "text"
      },
      "source": [
        "# 3. 이미지 - 빅스비 비전(삼성)\n",
        "\n",
        "\n"
      ]
    },
    {
      "cell_type": "markdown",
      "metadata": {
        "id": "_ARE9ZPSvsTw",
        "colab_type": "text"
      },
      "source": [
        "![](https://img.kr.news.samsung.com/kr/wp-content/uploads/2018/05/bv-1t-11.png)"
      ]
    },
    {
      "cell_type": "markdown",
      "metadata": {
        "id": "Qc0efLmPayoj",
        "colab_type": "text"
      },
      "source": [
        "<설명> _빅스비 비전은 삼성에서 제작한 어플리케이션으로 스마트폰 카메라에 비친 피사체를 인식해 다양한 기능을 실시간으로 제공한다._\n",
        "\n",
        "\n"
      ]
    },
    {
      "cell_type": "markdown",
      "metadata": {
        "id": "1CSCOYcqfLhZ",
        "colab_type": "text"
      },
      "source": [
        "<기술 및 원리> 빅스비와 비슷한 방식으로 빅스비 비전도 각 모드에 따라 맞는 캡슐로 이동해서 정보를 찾는다.(빅스비 기술 및 원리 참고)"
      ]
    },
    {
      "cell_type": "markdown",
      "metadata": {
        "id": "c0g5Un0oseWQ",
        "colab_type": "text"
      },
      "source": [
        "<활용> 와인에 대한 정보검색, 텍스트인식 및 번역, 상품찾기, QR코드스캔, 음식정보 검색, 장소 정보검색 등의 기능이 있으며 추가로 필요한 기능을 다운로드해서 사용할 수도 있다. "
      ]
    },
    {
      "cell_type": "markdown",
      "metadata": {
        "id": "FCP_VJvAeYY0",
        "colab_type": "text"
      },
      "source": [
        "<한계점>\n",
        "실제로 사용시 500만원 짜리 시계를 검색했을때 1초도 안되서 결과가 나오긴 했지만, 만원짜리 시계인 경우가 자주 있다. 아직까지는 딥러닝 기반의 기술인 만큼 어느 정도 시간이 지나야 만족할 만한 서비스를 보여줄 수 있을 것으로 보인다. "
      ]
    },
    {
      "cell_type": "markdown",
      "metadata": {
        "id": "4GhQi22_tXN8",
        "colab_type": "text"
      },
      "source": [
        "***"
      ]
    },
    {
      "cell_type": "markdown",
      "metadata": {
        "id": "52QcQo8ORZ-S",
        "colab_type": "text"
      },
      "source": [
        "# 4. 자율주행 - 오토파일럿(테슬라)"
      ]
    },
    {
      "cell_type": "markdown",
      "metadata": {
        "id": "oBFqQ2cTvvbJ",
        "colab_type": "text"
      },
      "source": [
        "![](https://encrypted-tbn0.gstatic.com/images?q=tbn%3AANd9GcSqnL0GrJrVjXe8VES3yMfRb0hQQOSJLfJJbLtGCYBUR4r7Yfni&usqp=CAU)"
      ]
    },
    {
      "cell_type": "markdown",
      "metadata": {
        "id": "El4ve7x6cdO2",
        "colab_type": "text"
      },
      "source": [
        "<설명> 테슬라 사에서 개발한 자율주행 기능이다.\n",
        "\n",
        "\n",
        "\n",
        "자율주행은 국제자동차공학회(SAE)에서 5단계로 나눈 기준을 주로 척도로 삼는다.   \n",
        "**0단계** : 수동제어   \n",
        "**1단계** : 운전자보조   \n",
        "**2단계** : 부분 자율주행(간격유지,차선/차량인식등)   \n",
        "**3단계** : 조건적 자율주행(일정구간 자율, 돌발상황은 운전자가 대비)   \n",
        "**4단계** : 고도화 자율주행(특정조건에서 모든 안전제어 가능)   \n",
        "**5단계** : 완전 자율주행   \n",
        "   \n",
        "   현재까지는 대부분 2~3단계 정도까지만 개발이 완료된 것으로 조사된다. 테슬라의 오토파일럿의 경우도 3단계 정도다."
      ]
    },
    {
      "cell_type": "markdown",
      "metadata": {
        "id": "GrtlxYrwuGIS",
        "colab_type": "text"
      },
      "source": [
        "<기술 및 원리> 자율주행 서비스인 오토파일럿은 하나의 시스템으로 작동하는게 아니라 위치기반 서비스, 카메라, 레이더(라이더) 등등 여러가지 기술과 장비들의 정보를 합쳐서 비로소 기능이 완성된다.\n",
        "\n",
        "핵심기술은 눈이 되는 카메라와 레이더(라이더), 딥러닝을 기반으로 한 시스템 등이고 위치정보나 날씨정보등을 이용해 운행기술을 보조한다."
      ]
    },
    {
      "cell_type": "markdown",
      "metadata": {
        "id": "g_sW-GfnuANc",
        "colab_type": "text"
      },
      "source": [
        "<활용 사례 및 참고영상>"
      ]
    },
    {
      "cell_type": "markdown",
      "metadata": {
        "id": "G83DueHethQ0",
        "colab_type": "text"
      },
      "source": [
        "[실제 사용 영상](https://www.youtube.com/watch?v=aQ3JN0mcTmk\n",
        ")"
      ]
    },
    {
      "cell_type": "markdown",
      "metadata": {
        "id": "ek0ZrEiItpla",
        "colab_type": "text"
      },
      "source": [
        "[오토파일럿에 대한 사용 및 전반적인 설명]( https://www.youtube.com/watch?v=Ko8R68nGGUg\n",
        ")"
      ]
    },
    {
      "cell_type": "markdown",
      "metadata": {
        "id": "a4op3QGvxCFD",
        "colab_type": "text"
      },
      "source": [
        "<문제점 및 보완>"
      ]
    },
    {
      "cell_type": "markdown",
      "metadata": {
        "id": "CW81BLBixs4v",
        "colab_type": "text"
      },
      "source": [
        "[자율주행 차량 사고영상](https://www.youtube.com/watch?v=Z4bvgaK_o3U)"
      ]
    },
    {
      "cell_type": "markdown",
      "metadata": {
        "id": "WeTqLeZxxEi7",
        "colab_type": "text"
      },
      "source": [
        "인공지능 기술과 필요한 감지장치의 성능이 아직까지는 완벽하지 않은 만큼 현재로서는 완전한 주행이 힘들것으로 보인다.   \n",
        "하지만 앞으로 지금까지의 발전속도를 봤을 때  재료개발과 인공지능 기술개발을 통해 몇 십년 안에 완전 자율주행에 가까운 기능을 구현해 낼 수 있을 것이다."
      ]
    }
  ]
}